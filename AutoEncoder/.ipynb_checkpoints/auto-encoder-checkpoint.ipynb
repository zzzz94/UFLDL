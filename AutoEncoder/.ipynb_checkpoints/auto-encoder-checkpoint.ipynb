{
 "cells": [
  {
   "cell_type": "code",
   "execution_count": 1,
   "metadata": {
    "collapsed": false
   },
   "outputs": [],
   "source": [
    "import tensorflow as tf\n",
    "import matplotlib.pyplot as plt\n",
    "import numpy as np\n",
    "import scipy.io as sio\n",
    "import random"
   ]
  },
  {
   "cell_type": "code",
   "execution_count": 2,
   "metadata": {
    "collapsed": false
   },
   "outputs": [],
   "source": [
    "data = sio.loadmat('./IMAGES.mat')\n",
    "IMAGES = data['IMAGES']\n",
    "sess = tf.InteractiveSession()\n",
    "patch_size = 8\n",
    "hidden_size = 5 * 5\n",
    "numpatches = 10000\n",
    "\n",
    "def sample_images():\n",
    "    patches = np.zeros((numpatches, patch_size * patch_size))\n",
    "    \n",
    "    for i in range(numpatches):\n",
    "        img_idx = np.random.randint(10)\n",
    "        row = np.random.randint(512 - 7) # 0 ~ 504\n",
    "        col = np.random.randint(512 - 7)\n",
    "        patches[i, :] = np.reshape(IMAGES[row:row + 8, col:col + 8, img_idx], [patch_size * patch_size])\n",
    "    return patches"
   ]
  },
  {
   "cell_type": "code",
   "execution_count": 3,
   "metadata": {
    "collapsed": true
   },
   "outputs": [],
   "source": [
    "def normalize_data(data):\n",
    "    data = data - np.mean(data, axis=1).reshape(data.shape[0], 1) #mean of data\n",
    "    data_std = 3 * np.std(data)\n",
    "    for i in range(numpatches):\n",
    "        for j in range(patch_size * patch_size):\n",
    "            if data[i, j] < -data_std:\n",
    "                data[i, j] = -data_std\n",
    "            elif data[i, j] > data_std:\n",
    "                data[i, j] = data_std\n",
    "    data /= data_std\n",
    "    data = (data + 1) * 0.4 + 0.1\n",
    "    return data"
   ]
  },
  {
   "cell_type": "code",
   "execution_count": 48,
   "metadata": {
    "collapsed": false
   },
   "outputs": [],
   "source": [
    "visible = tf.placeholder(tf.float32, shape = [None, patch_size * patch_size])\n",
    "hidden = tf.placeholder(tf.float32, shape = [patch_size, patch_size])\n",
    "\n",
    "sparsity_param = 0.01\n",
    "beta = 3 # weight of sparsity penalty term\n",
    "lambd = 0.0001 # weight decay parameter\n",
    "\n",
    "W1 = tf.Variable(tf.truncated_normal([patch_size * patch_size, hidden_size], stddev=0.1))\n",
    "b1 = tf.Variable(tf.truncated_normal([hidden_size], stddev=0.1))\n",
    "\n",
    "W2 = tf.Variable(tf.truncated_normal([hidden_size, patch_size * patch_size], stddev=0.1))\n",
    "b2 = tf.Variable(tf.truncated_normal([patch_size * patch_size], stddev=0.1))\n",
    "\n",
    "a2 = tf.nn.sigmoid(tf.matmul(visible, W1) + b1)\n",
    "y = tf.nn.sigmoid(tf.matmul(a2, W2) + b2)\n",
    "\n",
    "rho = tf.reduce_mean(a2, 0)\n",
    "sparsity_penalty = tf.reduce_sum(sparsity_param * tf.log(sparsity_param / rho) + (1 - sparsity_param) * \\\n",
    "                                        tf.log((1 - sparsity_param) / (1 - rho)))\n",
    "\n",
    "cost = tf.reduce_mean(tf.reduce_sum(tf.square(y - visible), 1)) + \\\n",
    "                lambd * tf.reduce_sum(tf.square(W1)) + lambd * tf.reduce_sum(tf.square(W2)) + \\\n",
    "                beta * sparsity_penalty\n",
    "                \n",
    "\n",
    "train_step = tf.train.AdamOptimizer(1e-4).minimize(cost)\n",
    "\n",
    "sess.run(tf.global_variables_initializer())"
   ]
  },
  {
   "cell_type": "code",
   "execution_count": 49,
   "metadata": {
    "collapsed": false
   },
   "outputs": [
    {
     "name": "stdout",
     "output_type": "stream",
     "text": [
      "49.1734\n",
      "6.65862\n",
      "2.26288\n",
      "1.32889\n",
      "1.09197\n",
      "1.04052\n",
      "1.03338\n",
      "1.03277\n",
      "1.03253\n",
      "1.03234\n",
      "1.03219\n",
      "1.03211\n",
      "1.03202\n",
      "1.03195\n",
      "1.03185\n",
      "1.03172\n",
      "1.03153\n",
      "1.0313\n",
      "1.03101\n",
      "1.03066\n",
      "1.03025\n",
      "1.02974\n",
      "1.02912\n",
      "1.02835\n",
      "1.0274\n",
      "1.02622\n",
      "1.02473\n",
      "1.02293\n",
      "1.02077\n",
      "1.0183\n"
     ]
    }
   ],
   "source": [
    "patches = list(normalize_data(sample_images()))\n",
    "mini_batch = 128\n",
    "\n",
    "\n",
    "for i in range(30000):\n",
    "    batch = random.sample(patches, mini_batch)\n",
    "    train_step.run(feed_dict = {visible: batch})\n",
    "    if i % 1000 == 0:\n",
    "        print(cost.eval(feed_dict={visible: patches}))\n",
    "W = np.array(W1.eval())"
   ]
  },
  {
   "cell_type": "code",
   "execution_count": 53,
   "metadata": {
    "collapsed": false
   },
   "outputs": [
    {
     "name": "stdout",
     "output_type": "stream",
     "text": [
      "[[-0.03428522 -0.07176469]\n",
      " [ 0.23394572 -0.18066227]]\n"
     ]
    },
    {
     "data": {
      "image/png": "[encoded data removed]",
      "text/plain": [
       "<matplotlib.figure.Figure at 0x120701f60>"
      ]
     },
     "metadata": {},
     "output_type": "display_data"
    },
    {
     "data": {
      "image/png": "[encoded data removed]",
      "text/plain": [
       "<matplotlib.figure.Figure at 0x11dad55c0>"
      ]
     },
     "metadata": {},
     "output_type": "display_data"
    }
   ],
   "source": [
    "def visualize(W1):\n",
    "    features = np.zeros((hidden_size, patch_size * patch_size))\n",
    "    for i in range(hidden_size):\n",
    "        for j in range(patch_size * patch_size):\n",
    "            features[i, j] = W1[j, i] / np.sqrt(np.sum(np.square(W1[:, i])))\n",
    "    return features\n",
    "\n",
    "features = visualize(W)\n",
    "plt.figure()\n",
    "ab = 0.14 * np.random.randn(2,2)\n",
    "print(ab)\n",
    "plt.axis('off')\n",
    "plt.imshow(ab, cmap='gray')\n",
    "\n",
    "plt.figure(figsize=(12, 8))\n",
    "for i in range(25):\n",
    "    feature = features[i].reshape(patch_size, patch_size)\n",
    "    fig = plt.subplot(5, 5, i + 1)\n",
    "    fig.imshow(feature, cmap='gray')\n",
    "plt.show()"
   ]
  },
  {
   "cell_type": "code",
   "execution_count": 27,
   "metadata": {
    "collapsed": false
   },
   "outputs": [
    {
     "name": "stdout",
     "output_type": "stream",
     "text": [
      "Help on built-in function sort:\n",
      "\n",
      "sort(...) method of builtins.list instance\n",
      "    L.sort(key=None, reverse=False) -> None -- stable sort *IN PLACE*\n",
      "\n"
     ]
    }
   ],
   "source": [
    "a = [1, 2]\n",
    "help(a.sort)"
   ]
  }
 ],
 "metadata": {
  "kernelspec": {
   "display_name": "Python 3",
   "language": "python",
   "name": "python3"
  },
  "language_info": {
   "codemirror_mode": {
    "name": "ipython",
    "version": 3
   },
   "file_extension": ".py",
   "mimetype": "text/x-python",
   "name": "python",
   "nbconvert_exporter": "python",
   "pygments_lexer": "ipython3",
   "version": "3.5.3"
  }
 },
 "nbformat": 4,
 "nbformat_minor": 2
}
